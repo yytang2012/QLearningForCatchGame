{
 "cells": [
  {
   "cell_type": "code",
   "execution_count": 1,
   "metadata": {
    "collapsed": true
   },
   "outputs": [
    {
     "name": "stdout",
     "output_type": "stream",
     "text": [
      "Using matplotlib backend: TkAgg\n"
     ]
    }
   ],
   "source": [
    "from trainModel import CatchEnvironment, X, W1, b1, input_layer, W2, b2, hidden_layer, W3, b3, output_layer, Y, cost, optimizer\n",
    "from IPython import display\n",
    "import pylab as pl\n",
    "import time\n",
    "import tensorflow as tf\n",
    "import math\n",
    "import os\n",
    "import matplotlib.pyplot as plt\n",
    "import matplotlib.patches as patches\n",
    "%matplotlib\n",
    "%matplotlib inline"
   ]
  },
  {
   "cell_type": "code",
   "execution_count": null,
   "metadata": {},
   "outputs": [],
   "source": [
    "gridSize = 10  # The size of the grid that the agent is going to play the game on.\n",
    "maxGames = 100\n",
    "env = CatchEnvironment(gridSize)\n",
    "winCount = 0\n",
    "loseCount = 0\n",
    "numberOfGames = 0\n",
    "modelSaveRoot = os.path.join(os.getcwd(), 'model')\n",
    "savePath = os.path.join(modelSaveRoot, 'model.ckpt')\n",
    "\n",
    "ground = 1\n",
    "plot = pl.figure(figsize=(12, 12))\n",
    "axis = plot.add_subplot(111, aspect='equal')\n",
    "axis.set_xlim(-1, 12)\n",
    "axis.set_ylim(0, 12)\n",
    "\n",
    "# Add ops to save and restore all the variables.\n",
    "saver = tf.train.Saver()\n",
    "\n",
    "\n",
    "def drawState(fruitRow, fruitColumn, basket):\n",
    "    global gridSize\n",
    "    # column is the x axis\n",
    "    fruitX = fruitColumn\n",
    "    # Invert matrix style points to coordinates\n",
    "    fruitY = (gridSize - fruitRow + 1)\n",
    "    statusTitle = \"Wins: \" + str(winCount) + \"  Losses: \" + str(loseCount) + \"  Total: \" + str(numberOfGames)\n",
    "    axis.set_title(statusTitle, fontsize=30)\n",
    "    for p in [\n",
    "        patches.Rectangle(\n",
    "            ((ground - 1), ground), 11, 10,\n",
    "            facecolor=\"#000000\"  # Black\n",
    "        ),\n",
    "        patches.Rectangle(\n",
    "            (basket - 1, ground), 2, 0.5,\n",
    "            facecolor=\"#FFFF33\"  # Yellow\n",
    "        ),\n",
    "        patches.Rectangle(\n",
    "            (fruitX - 0.5, fruitY - 0.5), 1, 1,\n",
    "            facecolor=\"#ff66be\"  # Yellow FFFF33\n",
    "        ),\n",
    "    ]:\n",
    "        axis.add_patch(p)\n",
    "    display.clear_output(wait=True)\n",
    "    display.display(pl.gcf())\n",
    "\n",
    "\n",
    "with tf.Session() as sess:\n",
    "    # Restore variables from disk.\n",
    "    saver.restore(sess, savePath)\n",
    "    print('saved model is loaded!')\n",
    "\n",
    "    while numberOfGames < maxGames:\n",
    "        numberOfGames = numberOfGames + 1\n",
    "\n",
    "        # The initial state of the environment.\n",
    "        isGameOver = False\n",
    "        fruitRow, fruitColumn, basket = env.reset()\n",
    "        currentState = env.observe()\n",
    "        drawState(fruitRow, fruitColumn, basket)\n",
    "\n",
    "        while not isGameOver:\n",
    "            # Forward the current state through the network.\n",
    "            q = sess.run(output_layer, feed_dict={X: currentState})\n",
    "            # Find the max index (the chosen action).\n",
    "            index = q.argmax()\n",
    "            action = index + 1\n",
    "            nextState, reward, gameOver, stateInfo = env.act(action)\n",
    "            fruitRow = stateInfo[0]\n",
    "            fruitColumn = stateInfo[1]\n",
    "            basket = stateInfo[2]\n",
    "\n",
    "            # Count game results\n",
    "            if reward == 1:\n",
    "                winCount = winCount + 1\n",
    "            elif reward == -1:\n",
    "                loseCount = loseCount + 1\n",
    "\n",
    "            currentState = nextState\n",
    "            isGameOver = gameOver\n",
    "            drawState(fruitRow, fruitColumn, basket)\n",
    "            time.sleep(0.2)\n",
    "\n",
    "display.clear_output(wait=True)\n",
    "\n",
    "\n",
    "\n",
    "\n"
   ]
  }
 ],
 "metadata": {
  "kernelspec": {
   "display_name": "Python 2",
   "language": "python",
   "name": "python2"
  },
  "language_info": {
   "codemirror_mode": {
    "name": "ipython",
    "version": 2
   },
   "file_extension": ".py",
   "mimetype": "text/x-python",
   "name": "python",
   "nbconvert_exporter": "python",
   "pygments_lexer": "ipython2",
   "version": "2.7.6"
  }
 },
 "nbformat": 4,
 "nbformat_minor": 0
}
